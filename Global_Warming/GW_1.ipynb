{
 "cells": [
  {
   "cell_type": "markdown",
   "metadata": {},
   "source": [
    "\"Naked Planet\" model:\n",
    "\n",
    "Simulation how the temperature of a planet may change through time as it approaches equilibrium of incoming and outgoing heat:</p>\n",
    "L * (1 - alpha)/4 = epsilon * sigma * pow(T, 4)\n",
    "\n",
    "Based on: Coursera course \"Global Warming II: Create Your Own Models in Python\" by University of Chicago"
   ]
  },
  {
   "cell_type": "code",
   "execution_count": 5,
   "metadata": {},
   "outputs": [
    {
     "name": "stdin",
     "output_type": "stream",
     "text": [
      "Enter step count  10\n"
     ]
    },
    {
     "name": "stdout",
     "output_type": "stream",
     "text": [
      "170.6575140371772 48.093315606120555\n"
     ]
    },
    {
     "data": {
      "image/png": "[encoded data removed]",
      "text/plain": [
       "<Figure size 432x288 with 1 Axes>"
      ]
     },
     "metadata": {
      "needs_background": "light"
     },
     "output_type": "display_data"
    }
   ],
   "source": [
    "import numpy\n",
    "import matplotlib.pyplot as plt\n",
    "\n",
    "timeStep = 10 # years\n",
    "waterDepth = 1000 # meters\n",
    "L = 1350 # Watts/m2\n",
    "alpha = 0.3\n",
    "epsilon = 1\n",
    "sigma = 5.67E-8 # H/m2 K4\n",
    "heatCapacity = waterDepth * 4.2E6 # J/K m2\n",
    "heatIn = L * (1 - alpha)/4\n",
    "\n",
    "nSteps = int(input(\"Enter step count \"))\n",
    "\n",
    "timeYears = [0]\n",
    "T = [0]\n",
    "heatContent = heatCapacity * T[0]\n",
    "heatOut = epsilon * sigma * pow(T[0], 4)\n",
    "for itime in range(0, nSteps):\n",
    "    #print(timeYears[itime], heatOut)\n",
    "    heatContent = heatContent + (heatIn - heatOut) * timeStep * 3.14e7\n",
    "    T.append(heatContent / heatCapacity)\n",
    "    timeYears.append(timeStep + timeYears[itime])\n",
    "    heatOut = epsilon * sigma * pow(T[itime + 1], 4)\n",
    "    \n",
    "print(T[-1], heatOut)\n",
    "\n",
    "plt.plot(timeYears, T)\n",
    "plt.show()"
   ]
  },
  {
   "cell_type": "code",
   "execution_count": null,
   "metadata": {},
   "outputs": [],
   "source": []
  },
  {
   "cell_type": "code",
   "execution_count": null,
   "metadata": {},
   "outputs": [],
   "source": []
  }
 ],
 "metadata": {
  "kernelspec": {
   "display_name": "Python 3",
   "language": "python",
   "name": "python3"
  },
  "language_info": {
   "codemirror_mode": {
    "name": "ipython",
    "version": 3
   },
   "file_extension": ".py",
   "mimetype": "text/x-python",
   "name": "python",
   "nbconvert_exporter": "python",
   "pygments_lexer": "ipython3",
   "version": "3.8.3"
  }
 },
 "nbformat": 4,
 "nbformat_minor": 4
}
